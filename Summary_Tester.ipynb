{
 "cells": [
  {
   "cell_type": "code",
   "execution_count": 1,
   "id": "781e2d14-fdd2-49f4-934b-871bc4ce3198",
   "metadata": {},
   "outputs": [
    {
     "name": "stderr",
     "output_type": "stream",
     "text": [
      "2023-04-24 19:55:27.421026: I tensorflow/core/util/port.cc:110] oneDNN custom operations are on. You may see slightly different numerical results due to floating-point round-off errors from different computation orders. To turn them off, set the environment variable `TF_ENABLE_ONEDNN_OPTS=0`.\n",
      "2023-04-24 19:55:27.470219: I tensorflow/core/platform/cpu_feature_guard.cc:182] This TensorFlow binary is optimized to use available CPU instructions in performance-critical operations.\n",
      "To enable the following instructions: AVX2 AVX512F AVX512_VNNI FMA, in other operations, rebuild TensorFlow with the appropriate compiler flags.\n",
      "2023-04-24 19:55:28.124927: W tensorflow/compiler/tf2tensorrt/utils/py_utils.cc:38] TF-TRT Warning: Could not find TensorRT\n"
     ]
    }
   ],
   "source": [
    "import gzip\n",
    "import shutil\n",
    "import time\n",
    "\n",
    "import pandas as pd\n",
    "import requests\n",
    "import torch\n",
    "import torch.nn.functional as F\n",
    "import torchtext\n",
    "import numpy as np\n",
    "\n",
    "import transformers\n",
    "from transformers import DistilBertForSequenceClassification, AdamW\n",
    "\n",
    "import os"
   ]
  },
  {
   "cell_type": "code",
   "execution_count": 2,
   "id": "5fcb1a09-28fe-4676-8561-5b61364d1d26",
   "metadata": {},
   "outputs": [],
   "source": [
    "os.environ['CUDA_VISIBLE_DEVICES'] = '0,1'"
   ]
  },
  {
   "cell_type": "code",
   "execution_count": 3,
   "id": "aab534bb-ec73-4fa5-9cfe-6802e044ae7f",
   "metadata": {},
   "outputs": [],
   "source": [
    "torch.backends.cudnn.deterministic = True\n",
    "RANDOM_SEED = 123\n",
    "torch.manual_seed(RANDOM_SEED)\n",
    "\n",
    "NUM_EPOCHS = 3\n",
    "\n",
    "DEVICE = torch.device(\"cuda:0\")"
   ]
  },
  {
   "cell_type": "code",
   "execution_count": 4,
   "id": "325f7aa8-cc68-4232-92db-f45f1b3ef364",
   "metadata": {},
   "outputs": [
    {
     "data": {
      "text/html": [
       "<div>\n",
       "<style scoped>\n",
       "    .dataframe tbody tr th:only-of-type {\n",
       "        vertical-align: middle;\n",
       "    }\n",
       "\n",
       "    .dataframe tbody tr th {\n",
       "        vertical-align: top;\n",
       "    }\n",
       "\n",
       "    .dataframe thead th {\n",
       "        text-align: right;\n",
       "    }\n",
       "</style>\n",
       "<table border=\"1\" class=\"dataframe\">\n",
       "  <thead>\n",
       "    <tr style=\"text-align: right;\">\n",
       "      <th></th>\n",
       "      <th>Summary No.</th>\n",
       "      <th>content</th>\n",
       "      <th>human</th>\n",
       "    </tr>\n",
       "  </thead>\n",
       "  <tbody>\n",
       "    <tr>\n",
       "      <th>6478</th>\n",
       "      <td>26479</td>\n",
       "      <td>Biggar is a surname of Scottish origin. People...</td>\n",
       "      <td>1</td>\n",
       "    </tr>\n",
       "    <tr>\n",
       "      <th>2635</th>\n",
       "      <td>2636</td>\n",
       "      <td>Basilica of Our Lady of Perpetual Help, Mary ...</td>\n",
       "      <td>1</td>\n",
       "    </tr>\n",
       "    <tr>\n",
       "      <th>8954</th>\n",
       "      <td>8955</td>\n",
       "      <td>Ukraine is situated in Eastern Europe and bord...</td>\n",
       "      <td>0</td>\n",
       "    </tr>\n",
       "    <tr>\n",
       "      <th>1959</th>\n",
       "      <td>1960</td>\n",
       "      <td>The West Palatinate Way is a German scenic roa...</td>\n",
       "      <td>0</td>\n",
       "    </tr>\n",
       "    <tr>\n",
       "      <th>15488</th>\n",
       "      <td>15489</td>\n",
       "      <td>Georgia Valerie Toffolo (born 23 October 1994)...</td>\n",
       "      <td>0</td>\n",
       "    </tr>\n",
       "  </tbody>\n",
       "</table>\n",
       "</div>"
      ],
      "text/plain": [
       "       Summary No.                                            content  human\n",
       "6478         26479  Biggar is a surname of Scottish origin. People...      1\n",
       "2635          2636   Basilica of Our Lady of Perpetual Help, Mary ...      1\n",
       "8954          8955  Ukraine is situated in Eastern Europe and bord...      0\n",
       "1959          1960  The West Palatinate Way is a German scenic roa...      0\n",
       "15488        15489  Georgia Valerie Toffolo (born 23 October 1994)...      0"
      ]
     },
     "execution_count": 4,
     "metadata": {},
     "output_type": "execute_result"
    }
   ],
   "source": [
    "import csv\n",
    "ai_1 = pd.read_csv('ai_text_summaries_0_24000.csv')\n",
    "ai_2 = pd.read_csv('ai_text_summaries_24000_55000.csv')\n",
    "human_1 = pd.read_csv('human_text_summaries_0_20000.csv')\n",
    "human_2 = pd.read_csv('human_text_summaries_20000_40000.csv')\n",
    "data_updated_ai = pd.concat([ai_1, ai_2[:6000]])\n",
    "data_updated_ai.rename(columns={\"AI_Summaries\": \"content\"}, inplace = True)\n",
    "data_updated_ai['human'] = [0]*30000\n",
    "\n",
    "data_updated_human = pd.concat([human_1, human_2[:10000]])\n",
    "data_updated_human.rename(columns={\"H_Summaries\": \"content\"}, inplace = True)\n",
    "data_updated_human['human'] = [1]*30000\n",
    "\n",
    "merged = pd.concat([data_updated_ai, data_updated_human])\n",
    "merged = merged.sample(frac = 1)\n",
    "merged.head()"
   ]
  },
  {
   "cell_type": "code",
   "execution_count": 8,
   "id": "4647ab5e-d6e6-4bb8-92ed-ad0468e10a22",
   "metadata": {},
   "outputs": [
    {
     "data": {
      "text/html": [
       "<div>\n",
       "<style scoped>\n",
       "    .dataframe tbody tr th:only-of-type {\n",
       "        vertical-align: middle;\n",
       "    }\n",
       "\n",
       "    .dataframe tbody tr th {\n",
       "        vertical-align: top;\n",
       "    }\n",
       "\n",
       "    .dataframe thead th {\n",
       "        text-align: right;\n",
       "    }\n",
       "</style>\n",
       "<table border=\"1\" class=\"dataframe\">\n",
       "  <thead>\n",
       "    <tr style=\"text-align: right;\">\n",
       "      <th></th>\n",
       "      <th>content</th>\n",
       "      <th>human</th>\n",
       "    </tr>\n",
       "  </thead>\n",
       "  <tbody>\n",
       "    <tr>\n",
       "      <th>6478</th>\n",
       "      <td>Biggar is a surname of Scottish origin. People...</td>\n",
       "      <td>1</td>\n",
       "    </tr>\n",
       "    <tr>\n",
       "      <th>2635</th>\n",
       "      <td>Basilica of Our Lady of Perpetual Help, Mary ...</td>\n",
       "      <td>1</td>\n",
       "    </tr>\n",
       "    <tr>\n",
       "      <th>8954</th>\n",
       "      <td>Ukraine is situated in Eastern Europe and bord...</td>\n",
       "      <td>0</td>\n",
       "    </tr>\n",
       "    <tr>\n",
       "      <th>1959</th>\n",
       "      <td>The West Palatinate Way is a German scenic roa...</td>\n",
       "      <td>0</td>\n",
       "    </tr>\n",
       "    <tr>\n",
       "      <th>15488</th>\n",
       "      <td>Georgia Valerie Toffolo (born 23 October 1994)...</td>\n",
       "      <td>0</td>\n",
       "    </tr>\n",
       "  </tbody>\n",
       "</table>\n",
       "</div>"
      ],
      "text/plain": [
       "                                                 content  human\n",
       "6478   Biggar is a surname of Scottish origin. People...      1\n",
       "2635    Basilica of Our Lady of Perpetual Help, Mary ...      1\n",
       "8954   Ukraine is situated in Eastern Europe and bord...      0\n",
       "1959   The West Palatinate Way is a German scenic roa...      0\n",
       "15488  Georgia Valerie Toffolo (born 23 October 1994)...      0"
      ]
     },
     "execution_count": 8,
     "metadata": {},
     "output_type": "execute_result"
    }
   ],
   "source": [
    "merged.head()"
   ]
  },
  {
   "cell_type": "code",
   "execution_count": 6,
   "id": "5ea390a2-1383-40a0-b622-9c413e9905ec",
   "metadata": {},
   "outputs": [],
   "source": [
    "merged.drop(['Summary No.'], axis=1, inplace = True)"
   ]
  },
  {
   "cell_type": "code",
   "execution_count": 7,
   "id": "e641fd2f-5092-49bb-8927-03a8b473e3f0",
   "metadata": {},
   "outputs": [
    {
     "data": {
      "text/plain": [
       "(60000, 2)"
      ]
     },
     "execution_count": 7,
     "metadata": {},
     "output_type": "execute_result"
    }
   ],
   "source": [
    "merged.shape"
   ]
  },
  {
   "cell_type": "code",
   "execution_count": 44,
   "id": "5ae12d11-e5e3-4e81-918c-4f8cb8b61f60",
   "metadata": {},
   "outputs": [],
   "source": [
    "texts = merged['content'].values\n",
    "labels = merged['human'].values\n",
    "test_texts = texts\n",
    "test_labels = labels"
   ]
  },
  {
   "cell_type": "code",
   "execution_count": 35,
   "id": "3618431b-cb6c-45bc-b7f5-505f0fab9679",
   "metadata": {},
   "outputs": [
    {
     "name": "stdout",
     "output_type": "stream",
     "text": [
      "shape of texts -- (60000,)\n",
      "shape of labels -- (60000,)\n"
     ]
    }
   ],
   "source": [
    "print(\"shape of texts --\",texts.shape)\n",
    "print(\"shape of labels --\",labels.shape)"
   ]
  },
  {
   "cell_type": "code",
   "execution_count": 11,
   "id": "8850e597-b467-4e00-8d5e-54566c55f07a",
   "metadata": {},
   "outputs": [],
   "source": [
    "class IMDbDataset(torch.utils.data.Dataset):\n",
    "    def __init__(self, encodings, labels):\n",
    "        self.encodings = encodings\n",
    "        self.labels = labels\n",
    "\n",
    "    def __getitem__(self, idx):\n",
    "        item = {key: torch.tensor(val[idx]) for key, val in self.encodings.items()}\n",
    "        item['labels'] = torch.tensor(self.labels[idx])\n",
    "        return item\n",
    "\n",
    "    def __len__(self):\n",
    "        return len(self.labels)"
   ]
  },
  {
   "cell_type": "code",
   "execution_count": 12,
   "id": "5ff01fa2-dc28-4d20-a624-7d30e2c21129",
   "metadata": {},
   "outputs": [],
   "source": [
    "from transformers import Trainer, TrainingArguments"
   ]
  },
  {
   "cell_type": "code",
   "execution_count": 13,
   "id": "62b09ae0-ac6d-4f75-80e4-1f94dc2cff94",
   "metadata": {},
   "outputs": [],
   "source": [
    "def compute_accuracy(model, data_loader, device):\n",
    "\n",
    "    with torch.no_grad():\n",
    "\n",
    "        correct_pred, num_examples = 0, 0\n",
    "\n",
    "        for batch_idx, batch in enumerate(data_loader):\n",
    "\n",
    "            ### Prepare data\n",
    "            input_ids = batch['input_ids'].to(device)\n",
    "            attention_mask = batch['attention_mask'].to(device)\n",
    "            labels = batch['labels'].to(device)\n",
    "            \n",
    "            outputs = model(input_ids, attention_mask=attention_mask, labels=labels)\n",
    "            loss, logits = outputs['loss'], outputs['logits']\n",
    "\n",
    "            _, predicted_labels = torch.max(logits, 1)\n",
    "\n",
    "            num_examples += labels.size(0)\n",
    "\n",
    "            correct_pred += (predicted_labels == labels).sum()\n",
    "    return correct_pred.float()/num_examples * 100"
   ]
  },
  {
   "cell_type": "code",
   "execution_count": 14,
   "id": "42911d8b-f669-45b0-b8bc-cd255bfda72b",
   "metadata": {},
   "outputs": [
    {
     "name": "stderr",
     "output_type": "stream",
     "text": [
      "Some weights of the model checkpoint at distilbert-base-uncased were not used when initializing DistilBertForSequenceClassification: ['vocab_layer_norm.weight', 'vocab_projector.bias', 'vocab_layer_norm.bias', 'vocab_transform.bias', 'vocab_projector.weight', 'vocab_transform.weight']\n",
      "- This IS expected if you are initializing DistilBertForSequenceClassification from the checkpoint of a model trained on another task or with another architecture (e.g. initializing a BertForSequenceClassification model from a BertForPreTraining model).\n",
      "- This IS NOT expected if you are initializing DistilBertForSequenceClassification from the checkpoint of a model that you expect to be exactly identical (initializing a BertForSequenceClassification model from a BertForSequenceClassification model).\n",
      "Some weights of DistilBertForSequenceClassification were not initialized from the model checkpoint at distilbert-base-uncased and are newly initialized: ['pre_classifier.weight', 'classifier.bias', 'pre_classifier.bias', 'classifier.weight']\n",
      "You should probably TRAIN this model on a down-stream task to be able to use it for predictions and inference.\n"
     ]
    },
    {
     "data": {
      "text/plain": [
       "<All keys matched successfully>"
      ]
     },
     "execution_count": 14,
     "metadata": {},
     "output_type": "execute_result"
    }
   ],
   "source": [
    "model = DistilBertForSequenceClassification.from_pretrained('distilbert-base-uncased')\n",
    "model.to(DEVICE)\n",
    "model.load_state_dict(torch.load('pytorch_model.bin'))"
   ]
  },
  {
   "cell_type": "code",
   "execution_count": 15,
   "id": "0c502ce1-a91c-4f35-9031-82496c2ce043",
   "metadata": {},
   "outputs": [
    {
     "name": "stdout",
     "output_type": "stream",
     "text": [
      "Test accuracy: 51.65%\n"
     ]
    }
   ],
   "source": [
    "test_encodings = tokenizer(list(merged['content']), truncation=True, padding=True)\n",
    "test_labels = merged['human'].to_numpy()\n",
    "test_dataset = IMDbDataset(test_encodings, test_labels)\n",
    "test_loader = torch.utils.data.DataLoader(test_dataset, batch_size=16, shuffle=False)\n",
    "\n",
    "model.to(DEVICE)\n",
    "test_accuracy = compute_accuracy(model, test_loader, DEVICE)\n",
    "print(f'Test accuracy: {test_accuracy:.2f}%')\n"
   ]
  }
 ],
 "metadata": {
  "kernelspec": {
   "display_name": "Python 3 (ipykernel)",
   "language": "python",
   "name": "python3"
  },
  "language_info": {
   "codemirror_mode": {
    "name": "ipython",
    "version": 3
   },
   "file_extension": ".py",
   "mimetype": "text/x-python",
   "name": "python",
   "nbconvert_exporter": "python",
   "pygments_lexer": "ipython3",
   "version": "3.9.12"
  }
 },
 "nbformat": 4,
 "nbformat_minor": 5
}

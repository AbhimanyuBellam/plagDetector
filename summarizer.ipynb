{
 "cells": [
  {
   "cell_type": "code",
   "execution_count": 1,
   "id": "58a0da90-64ef-42f5-a898-ae7bc1ee1258",
   "metadata": {},
   "outputs": [],
   "source": [
    "# !pip install bitsandbytes\n",
    "# !pip install transformers datasets accelerate nvidia-ml-py3 optimum"
   ]
  },
  {
   "cell_type": "code",
   "execution_count": 5,
   "id": "6ce175c0-7d19-4e21-b1ce-12239aad479f",
   "metadata": {},
   "outputs": [],
   "source": [
    "from transformers import BartForConditionalGeneration, BartTokenizer, BartConfig\n",
    "from optimum.bettertransformer import BetterTransformer\n",
    "# Loading the model and tokenizer for bart-large-cnn\n",
    "\n",
    "tokenizer=BartTokenizer.from_pretrained('facebook/bart-large-cnn')\n",
    "model=BartForConditionalGeneration.from_pretrained('facebook/bart-large-cnn')\n",
    "model = model.to(0)\n",
    "model = BetterTransformer.transform(model)\n"
   ]
  },
  {
   "cell_type": "code",
   "execution_count": 14,
   "id": "abad8e0e-f491-4090-880a-822d7748a29e",
   "metadata": {},
   "outputs": [],
   "source": [
    "original_text = 'A home, or domicile, is a space used as a permanent or semi-permanent residence for one or many humans, and sometimes various companion animals. It is a fully or semi sheltered space and can have both interior and exterior aspects to it. Homes provide sheltered spaces, for instance rooms, where domestic activity can be performed such as sleeping, preparing food, eating and hygiene as well as providing spaces for work and leisure such as remote working, studying and playing.'\n"
   ]
  },
  {
   "cell_type": "code",
   "execution_count": 15,
   "id": "d9ed4a24-027e-475d-97f3-fd969c091075",
   "metadata": {},
   "outputs": [],
   "source": [
    "# Encoding the inputs and passing them to model.generate()\n",
    "# inputs = tokenizer.batch_encode_plus([original_text],return_tensors='pt', max_length = 20, truncation=True)\n",
    "inputs = tokenizer.batch_encode_plus([original_text],return_tensors='pt')\n",
    "inputs.to(0)\n",
    "summary_ids = model.generate(inputs['input_ids'], early_stopping=True)"
   ]
  },
  {
   "cell_type": "code",
   "execution_count": 16,
   "id": "334774bd-e524-4754-b519-2c61a3ef6d81",
   "metadata": {},
   "outputs": [
    {
     "name": "stdout",
     "output_type": "stream",
     "text": [
      "A home, or domicile, is a space used as a permanent or semi-permanent residence for one or many humans. It is a fully or semi sheltered space and can have both interior and exterior aspects to it. Homes provide sheltered spaces, for instance rooms, where domestic activity can be performed.\n"
     ]
    }
   ],
   "source": [
    "# Decoding and printing the summary\n",
    "bart_summary = tokenizer.decode(summary_ids[0], skip_special_tokens=True)\n",
    "print(bart_summary)"
   ]
  },
  {
   "cell_type": "code",
   "execution_count": null,
   "id": "186f0da2-28ce-4a96-b007-75d33559517c",
   "metadata": {},
   "outputs": [],
   "source": []
  }
 ],
 "metadata": {
  "kernelspec": {
   "display_name": "Python 3",
   "language": "python",
   "name": "python3"
  },
  "language_info": {
   "codemirror_mode": {
    "name": "ipython",
    "version": 3
   },
   "file_extension": ".py",
   "mimetype": "text/x-python",
   "name": "python",
   "nbconvert_exporter": "python",
   "pygments_lexer": "ipython3",
   "version": "3.8.10"
  }
 },
 "nbformat": 4,
 "nbformat_minor": 5
}

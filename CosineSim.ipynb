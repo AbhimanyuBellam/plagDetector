{
  "nbformat": 4,
  "nbformat_minor": 0,
  "metadata": {
    "colab": {
      "provenance": []
    },
    "kernelspec": {
      "name": "python3",
      "display_name": "Python 3"
    },
    "language_info": {
      "name": "python"
    }
  },
  "cells": [
    {
      "cell_type": "code",
      "execution_count": null,
      "metadata": {
        "id": "aj1BiCaqTQT9"
      },
      "outputs": [],
      "source": [
        "import pandas as pd\n",
        "import io\n",
        "import copy"
      ]
    },
    {
      "cell_type": "code",
      "source": [
        "import os\n",
        "os.listdir('/content/drive/MyDrive/aldadata/summaries/')\n",
        "path15='/content/drive/MyDrive/aldadata/summaries/hard-words-list.csv'\n",
        "df_difficult_words= pd.read_csv(path15)\n",
        "\n",
        "path16='/content/drive/MyDrive/aldadata/summaries/GPT-wiki-intro.csv'\n",
        "df_complete_dataset=pd.read_csv(path16)\n",
        "\n",
        "df_complete_dataset\n"
      ],
      "metadata": {
        "colab": {
          "base_uri": "https://localhost:8080/",
          "height": 1000
        },
        "id": "kPZvPBNSk8ra",
        "outputId": "c0bc2ada-4f9f-4c13-8b13-27d26e36fbb9"
      },
      "execution_count": null,
      "outputs": [
        {
          "output_type": "execute_result",
          "data": {
            "text/plain": [
              "              id                                                url  \\\n",
              "0       63064638  https://en.wikipedia.org/wiki/Sexhow%20railway...   \n",
              "1         279621        https://en.wikipedia.org/wiki/Eti%C3%A4inen   \n",
              "2         287229  https://en.wikipedia.org/wiki/Inverse%20functi...   \n",
              "3       26712375  https://en.wikipedia.org/wiki/Stepping%20on%20...   \n",
              "4       38894426        https://en.wikipedia.org/wiki/Rob%20Bradley   \n",
              "...          ...                                                ...   \n",
              "149995  44173767        https://en.wikipedia.org/wiki/Randy%20Borum   \n",
              "149996  33564134  https://en.wikipedia.org/wiki/Sa%27och%20language   \n",
              "149997   4219548    https://en.wikipedia.org/wiki/Philip%20Hanawalt   \n",
              "149998   2625970  https://en.wikipedia.org/wiki/Vossius%20Gymnasium   \n",
              "149999  32345102    https://en.wikipedia.org/wiki/Simone%20Stratigo   \n",
              "\n",
              "                           title  \\\n",
              "0         Sexhow railway station   \n",
              "1                       Etiäinen   \n",
              "2       Inverse function theorem   \n",
              "3              Stepping on Roses   \n",
              "4                    Rob Bradley   \n",
              "...                          ...   \n",
              "149995               Randy Borum   \n",
              "149996           Sa'och language   \n",
              "149997           Philip Hanawalt   \n",
              "149998         Vossius Gymnasium   \n",
              "149999           Simone Stratigo   \n",
              "\n",
              "                                               wiki_intro  \\\n",
              "0       Sexhow railway station was a railway station b...   \n",
              "1       In Finnish folklore, all places and things, an...   \n",
              "2       In mathematics, specifically differential calc...   \n",
              "3       is a Japanese shōjo manga series written and i...   \n",
              "4       Robert Milner \"Rob\" Bradley, Jr. (born August ...   \n",
              "...                                                   ...   \n",
              "149995  Randy Borum is a Professor and Coordinator of ...   \n",
              "149996  Sa'och (, also, \"Sauch\") is an endangered, nea...   \n",
              "149997  Philip C. Hanawalt (born 1931) is an American ...   \n",
              "149998  Vossius Gymnasium is a public gymnasium in Ams...   \n",
              "149999  Simone Stratigo (, Symeon Filippos Stratigos; ...   \n",
              "\n",
              "                                          generated_intro  title_len  \\\n",
              "0       Sexhow railway station was a railway station l...          3   \n",
              "1       In Finnish folklore, all places and things, an...          1   \n",
              "2       In mathematics, specifically differential calc...          3   \n",
              "3       is a Japanese shōjo manga series written and i...          3   \n",
              "4       Robert Milner \"Rob\" Bradley, Jr. (born August ...          2   \n",
              "...                                                   ...        ...   \n",
              "149995  Randy Borum is a Professor and Coordinator of ...          2   \n",
              "149996  Sa'och (, also, \"Sauch\") is an endangered, nuc...          2   \n",
              "149997  Philip C. Hanawalt (born 1931) is an American ...          2   \n",
              "149998  Vossius Gymnasium is a public gymnasium in the...          2   \n",
              "149999  Simone Stratigo (, Symeon Filippos Stratigos; ...          2   \n",
              "\n",
              "        wiki_intro_len  generated_intro_len  \\\n",
              "0                  174                   78   \n",
              "1                  187                   80   \n",
              "2                  170                   59   \n",
              "3                  335                  121   \n",
              "4                  170                  136   \n",
              "...                ...                  ...   \n",
              "149995             185                   71   \n",
              "149996             175                  134   \n",
              "149997             166                  191   \n",
              "149998             168                  108   \n",
              "149999             153                  132   \n",
              "\n",
              "                                                   prompt  \\\n",
              "0       200 word wikipedia style introduction on 'Sexh...   \n",
              "1       200 word wikipedia style introduction on 'Etiä...   \n",
              "2       200 word wikipedia style introduction on 'Inve...   \n",
              "3       200 word wikipedia style introduction on 'Step...   \n",
              "4       200 word wikipedia style introduction on 'Rob ...   \n",
              "...                                                   ...   \n",
              "149995  200 word wikipedia style introduction on 'Rand...   \n",
              "149996  200 word wikipedia style introduction on 'Sa'o...   \n",
              "149997  200 word wikipedia style introduction on 'Phil...   \n",
              "149998  200 word wikipedia style introduction on 'Voss...   \n",
              "149999  200 word wikipedia style introduction on 'Simo...   \n",
              "\n",
              "                                           generated_text  prompt_tokens  \\\n",
              "0        located in the town of Sexhow, on the Cumbria...             25   \n",
              "1        animate or inanimate, have a spirit or \"etiäi...             26   \n",
              "2        function theorem states that for every real-v...             26   \n",
              "3        and illustrated by Maki Fujii. The series fol...             26   \n",
              "4        29, 1973) is an American former professional ...             28   \n",
              "...                                                   ...            ...   \n",
              "149995   of the Master of Fine Arts Program in Creativ...             25   \n",
              "149996   nuclear-speaking, isolate language of the Ath...             33   \n",
              "149997   American graphic artist and illustrator. He i...             30   \n",
              "149998   the town of Vossius, Netherlands. It is named...             32   \n",
              "149999   born 1 July 1979) is a Greek professional foo...             33   \n",
              "\n",
              "        generated_text_tokens  \n",
              "0                          88  \n",
              "1                         101  \n",
              "2                          65  \n",
              "3                         150  \n",
              "4                         162  \n",
              "...                       ...  \n",
              "149995                     92  \n",
              "149996                    184  \n",
              "149997                    272  \n",
              "149998                    147  \n",
              "149999                    173  \n",
              "\n",
              "[150000 rows x 12 columns]"
            ],
            "text/html": [
              "\n",
              "  <div id=\"df-063567cf-dfa2-47dd-8af2-856f0efb7747\">\n",
              "    <div class=\"colab-df-container\">\n",
              "      <div>\n",
              "<style scoped>\n",
              "    .dataframe tbody tr th:only-of-type {\n",
              "        vertical-align: middle;\n",
              "    }\n",
              "\n",
              "    .dataframe tbody tr th {\n",
              "        vertical-align: top;\n",
              "    }\n",
              "\n",
              "    .dataframe thead th {\n",
              "        text-align: right;\n",
              "    }\n",
              "</style>\n",
              "<table border=\"1\" class=\"dataframe\">\n",
              "  <thead>\n",
              "    <tr style=\"text-align: right;\">\n",
              "      <th></th>\n",
              "      <th>id</th>\n",
              "      <th>url</th>\n",
              "      <th>title</th>\n",
              "      <th>wiki_intro</th>\n",
              "      <th>generated_intro</th>\n",
              "      <th>title_len</th>\n",
              "      <th>wiki_intro_len</th>\n",
              "      <th>generated_intro_len</th>\n",
              "      <th>prompt</th>\n",
              "      <th>generated_text</th>\n",
              "      <th>prompt_tokens</th>\n",
              "      <th>generated_text_tokens</th>\n",
              "    </tr>\n",
              "  </thead>\n",
              "  <tbody>\n",
              "    <tr>\n",
              "      <th>0</th>\n",
              "      <td>63064638</td>\n",
              "      <td>https://en.wikipedia.org/wiki/Sexhow%20railway...</td>\n",
              "      <td>Sexhow railway station</td>\n",
              "      <td>Sexhow railway station was a railway station b...</td>\n",
              "      <td>Sexhow railway station was a railway station l...</td>\n",
              "      <td>3</td>\n",
              "      <td>174</td>\n",
              "      <td>78</td>\n",
              "      <td>200 word wikipedia style introduction on 'Sexh...</td>\n",
              "      <td>located in the town of Sexhow, on the Cumbria...</td>\n",
              "      <td>25</td>\n",
              "      <td>88</td>\n",
              "    </tr>\n",
              "    <tr>\n",
              "      <th>1</th>\n",
              "      <td>279621</td>\n",
              "      <td>https://en.wikipedia.org/wiki/Eti%C3%A4inen</td>\n",
              "      <td>Etiäinen</td>\n",
              "      <td>In Finnish folklore, all places and things, an...</td>\n",
              "      <td>In Finnish folklore, all places and things, an...</td>\n",
              "      <td>1</td>\n",
              "      <td>187</td>\n",
              "      <td>80</td>\n",
              "      <td>200 word wikipedia style introduction on 'Etiä...</td>\n",
              "      <td>animate or inanimate, have a spirit or \"etiäi...</td>\n",
              "      <td>26</td>\n",
              "      <td>101</td>\n",
              "    </tr>\n",
              "    <tr>\n",
              "      <th>2</th>\n",
              "      <td>287229</td>\n",
              "      <td>https://en.wikipedia.org/wiki/Inverse%20functi...</td>\n",
              "      <td>Inverse function theorem</td>\n",
              "      <td>In mathematics, specifically differential calc...</td>\n",
              "      <td>In mathematics, specifically differential calc...</td>\n",
              "      <td>3</td>\n",
              "      <td>170</td>\n",
              "      <td>59</td>\n",
              "      <td>200 word wikipedia style introduction on 'Inve...</td>\n",
              "      <td>function theorem states that for every real-v...</td>\n",
              "      <td>26</td>\n",
              "      <td>65</td>\n",
              "    </tr>\n",
              "    <tr>\n",
              "      <th>3</th>\n",
              "      <td>26712375</td>\n",
              "      <td>https://en.wikipedia.org/wiki/Stepping%20on%20...</td>\n",
              "      <td>Stepping on Roses</td>\n",
              "      <td>is a Japanese shōjo manga series written and i...</td>\n",
              "      <td>is a Japanese shōjo manga series written and i...</td>\n",
              "      <td>3</td>\n",
              "      <td>335</td>\n",
              "      <td>121</td>\n",
              "      <td>200 word wikipedia style introduction on 'Step...</td>\n",
              "      <td>and illustrated by Maki Fujii. The series fol...</td>\n",
              "      <td>26</td>\n",
              "      <td>150</td>\n",
              "    </tr>\n",
              "    <tr>\n",
              "      <th>4</th>\n",
              "      <td>38894426</td>\n",
              "      <td>https://en.wikipedia.org/wiki/Rob%20Bradley</td>\n",
              "      <td>Rob Bradley</td>\n",
              "      <td>Robert Milner \"Rob\" Bradley, Jr. (born August ...</td>\n",
              "      <td>Robert Milner \"Rob\" Bradley, Jr. (born August ...</td>\n",
              "      <td>2</td>\n",
              "      <td>170</td>\n",
              "      <td>136</td>\n",
              "      <td>200 word wikipedia style introduction on 'Rob ...</td>\n",
              "      <td>29, 1973) is an American former professional ...</td>\n",
              "      <td>28</td>\n",
              "      <td>162</td>\n",
              "    </tr>\n",
              "    <tr>\n",
              "      <th>...</th>\n",
              "      <td>...</td>\n",
              "      <td>...</td>\n",
              "      <td>...</td>\n",
              "      <td>...</td>\n",
              "      <td>...</td>\n",
              "      <td>...</td>\n",
              "      <td>...</td>\n",
              "      <td>...</td>\n",
              "      <td>...</td>\n",
              "      <td>...</td>\n",
              "      <td>...</td>\n",
              "      <td>...</td>\n",
              "    </tr>\n",
              "    <tr>\n",
              "      <th>149995</th>\n",
              "      <td>44173767</td>\n",
              "      <td>https://en.wikipedia.org/wiki/Randy%20Borum</td>\n",
              "      <td>Randy Borum</td>\n",
              "      <td>Randy Borum is a Professor and Coordinator of ...</td>\n",
              "      <td>Randy Borum is a Professor and Coordinator of ...</td>\n",
              "      <td>2</td>\n",
              "      <td>185</td>\n",
              "      <td>71</td>\n",
              "      <td>200 word wikipedia style introduction on 'Rand...</td>\n",
              "      <td>of the Master of Fine Arts Program in Creativ...</td>\n",
              "      <td>25</td>\n",
              "      <td>92</td>\n",
              "    </tr>\n",
              "    <tr>\n",
              "      <th>149996</th>\n",
              "      <td>33564134</td>\n",
              "      <td>https://en.wikipedia.org/wiki/Sa%27och%20language</td>\n",
              "      <td>Sa'och language</td>\n",
              "      <td>Sa'och (, also, \"Sauch\") is an endangered, nea...</td>\n",
              "      <td>Sa'och (, also, \"Sauch\") is an endangered, nuc...</td>\n",
              "      <td>2</td>\n",
              "      <td>175</td>\n",
              "      <td>134</td>\n",
              "      <td>200 word wikipedia style introduction on 'Sa'o...</td>\n",
              "      <td>nuclear-speaking, isolate language of the Ath...</td>\n",
              "      <td>33</td>\n",
              "      <td>184</td>\n",
              "    </tr>\n",
              "    <tr>\n",
              "      <th>149997</th>\n",
              "      <td>4219548</td>\n",
              "      <td>https://en.wikipedia.org/wiki/Philip%20Hanawalt</td>\n",
              "      <td>Philip Hanawalt</td>\n",
              "      <td>Philip C. Hanawalt (born 1931) is an American ...</td>\n",
              "      <td>Philip C. Hanawalt (born 1931) is an American ...</td>\n",
              "      <td>2</td>\n",
              "      <td>166</td>\n",
              "      <td>191</td>\n",
              "      <td>200 word wikipedia style introduction on 'Phil...</td>\n",
              "      <td>American graphic artist and illustrator. He i...</td>\n",
              "      <td>30</td>\n",
              "      <td>272</td>\n",
              "    </tr>\n",
              "    <tr>\n",
              "      <th>149998</th>\n",
              "      <td>2625970</td>\n",
              "      <td>https://en.wikipedia.org/wiki/Vossius%20Gymnasium</td>\n",
              "      <td>Vossius Gymnasium</td>\n",
              "      <td>Vossius Gymnasium is a public gymnasium in Ams...</td>\n",
              "      <td>Vossius Gymnasium is a public gymnasium in the...</td>\n",
              "      <td>2</td>\n",
              "      <td>168</td>\n",
              "      <td>108</td>\n",
              "      <td>200 word wikipedia style introduction on 'Voss...</td>\n",
              "      <td>the town of Vossius, Netherlands. It is named...</td>\n",
              "      <td>32</td>\n",
              "      <td>147</td>\n",
              "    </tr>\n",
              "    <tr>\n",
              "      <th>149999</th>\n",
              "      <td>32345102</td>\n",
              "      <td>https://en.wikipedia.org/wiki/Simone%20Stratigo</td>\n",
              "      <td>Simone Stratigo</td>\n",
              "      <td>Simone Stratigo (, Symeon Filippos Stratigos; ...</td>\n",
              "      <td>Simone Stratigo (, Symeon Filippos Stratigos; ...</td>\n",
              "      <td>2</td>\n",
              "      <td>153</td>\n",
              "      <td>132</td>\n",
              "      <td>200 word wikipedia style introduction on 'Simo...</td>\n",
              "      <td>born 1 July 1979) is a Greek professional foo...</td>\n",
              "      <td>33</td>\n",
              "      <td>173</td>\n",
              "    </tr>\n",
              "  </tbody>\n",
              "</table>\n",
              "<p>150000 rows × 12 columns</p>\n",
              "</div>\n",
              "      <button class=\"colab-df-convert\" onclick=\"convertToInteractive('df-063567cf-dfa2-47dd-8af2-856f0efb7747')\"\n",
              "              title=\"Convert this dataframe to an interactive table.\"\n",
              "              style=\"display:none;\">\n",
              "        \n",
              "  <svg xmlns=\"http://www.w3.org/2000/svg\" height=\"24px\"viewBox=\"0 0 24 24\"\n",
              "       width=\"24px\">\n",
              "    <path d=\"M0 0h24v24H0V0z\" fill=\"none\"/>\n",
              "    <path d=\"M18.56 5.44l.94 2.06.94-2.06 2.06-.94-2.06-.94-.94-2.06-.94 2.06-2.06.94zm-11 1L8.5 8.5l.94-2.06 2.06-.94-2.06-.94L8.5 2.5l-.94 2.06-2.06.94zm10 10l.94 2.06.94-2.06 2.06-.94-2.06-.94-.94-2.06-.94 2.06-2.06.94z\"/><path d=\"M17.41 7.96l-1.37-1.37c-.4-.4-.92-.59-1.43-.59-.52 0-1.04.2-1.43.59L10.3 9.45l-7.72 7.72c-.78.78-.78 2.05 0 2.83L4 21.41c.39.39.9.59 1.41.59.51 0 1.02-.2 1.41-.59l7.78-7.78 2.81-2.81c.8-.78.8-2.07 0-2.86zM5.41 20L4 18.59l7.72-7.72 1.47 1.35L5.41 20z\"/>\n",
              "  </svg>\n",
              "      </button>\n",
              "      \n",
              "  <style>\n",
              "    .colab-df-container {\n",
              "      display:flex;\n",
              "      flex-wrap:wrap;\n",
              "      gap: 12px;\n",
              "    }\n",
              "\n",
              "    .colab-df-convert {\n",
              "      background-color: #E8F0FE;\n",
              "      border: none;\n",
              "      border-radius: 50%;\n",
              "      cursor: pointer;\n",
              "      display: none;\n",
              "      fill: #1967D2;\n",
              "      height: 32px;\n",
              "      padding: 0 0 0 0;\n",
              "      width: 32px;\n",
              "    }\n",
              "\n",
              "    .colab-df-convert:hover {\n",
              "      background-color: #E2EBFA;\n",
              "      box-shadow: 0px 1px 2px rgba(60, 64, 67, 0.3), 0px 1px 3px 1px rgba(60, 64, 67, 0.15);\n",
              "      fill: #174EA6;\n",
              "    }\n",
              "\n",
              "    [theme=dark] .colab-df-convert {\n",
              "      background-color: #3B4455;\n",
              "      fill: #D2E3FC;\n",
              "    }\n",
              "\n",
              "    [theme=dark] .colab-df-convert:hover {\n",
              "      background-color: #434B5C;\n",
              "      box-shadow: 0px 1px 3px 1px rgba(0, 0, 0, 0.15);\n",
              "      filter: drop-shadow(0px 1px 2px rgba(0, 0, 0, 0.3));\n",
              "      fill: #FFFFFF;\n",
              "    }\n",
              "  </style>\n",
              "\n",
              "      <script>\n",
              "        const buttonEl =\n",
              "          document.querySelector('#df-063567cf-dfa2-47dd-8af2-856f0efb7747 button.colab-df-convert');\n",
              "        buttonEl.style.display =\n",
              "          google.colab.kernel.accessAllowed ? 'block' : 'none';\n",
              "\n",
              "        async function convertToInteractive(key) {\n",
              "          const element = document.querySelector('#df-063567cf-dfa2-47dd-8af2-856f0efb7747');\n",
              "          const dataTable =\n",
              "            await google.colab.kernel.invokeFunction('convertToInteractive',\n",
              "                                                     [key], {});\n",
              "          if (!dataTable) return;\n",
              "\n",
              "          const docLinkHtml = 'Like what you see? Visit the ' +\n",
              "            '<a target=\"_blank\" href=https://colab.research.google.com/notebooks/data_table.ipynb>data table notebook</a>'\n",
              "            + ' to learn more about interactive tables.';\n",
              "          element.innerHTML = '';\n",
              "          dataTable['output_type'] = 'display_data';\n",
              "          await google.colab.output.renderOutput(dataTable, element);\n",
              "          const docLink = document.createElement('div');\n",
              "          docLink.innerHTML = docLinkHtml;\n",
              "          element.appendChild(docLink);\n",
              "        }\n",
              "      </script>\n",
              "    </div>\n",
              "  </div>\n",
              "  "
            ]
          },
          "metadata": {},
          "execution_count": 78
        }
      ]
    },
    {
      "cell_type": "code",
      "source": [
        "df_complete_dataset['wiki_intro']"
      ],
      "metadata": {
        "colab": {
          "base_uri": "https://localhost:8080/"
        },
        "id": "vNjkpRp6KyB_",
        "outputId": "69f12657-3d9e-4660-928e-b500d04a21e5"
      },
      "execution_count": null,
      "outputs": [
        {
          "output_type": "execute_result",
          "data": {
            "text/plain": [
              "0         Sexhow railway station was a railway station b...\n",
              "1         In Finnish folklore, all places and things, an...\n",
              "2         In mathematics, specifically differential calc...\n",
              "3         is a Japanese shōjo manga series written and i...\n",
              "4         Robert Milner \"Rob\" Bradley, Jr. (born August ...\n",
              "                                ...                        \n",
              "149995    Randy Borum is a Professor and Coordinator of ...\n",
              "149996    Sa'och (, also, \"Sauch\") is an endangered, nea...\n",
              "149997    Philip C. Hanawalt (born 1931) is an American ...\n",
              "149998    Vossius Gymnasium is a public gymnasium in Ams...\n",
              "149999    Simone Stratigo (, Symeon Filippos Stratigos; ...\n",
              "Name: wiki_intro, Length: 150000, dtype: object"
            ]
          },
          "metadata": {},
          "execution_count": 79
        }
      ]
    },
    {
      "cell_type": "code",
      "source": [
        "import nltk\n",
        "nltk.download('stopwords')\n",
        "from nltk.corpus import stopwords\n",
        "stopwords = stopwords.words('english')\n",
        "print(stopwords)"
      ],
      "metadata": {
        "colab": {
          "base_uri": "https://localhost:8080/"
        },
        "id": "AqOUxm3bBK3-",
        "outputId": "8c2e4585-da22-4406-bc1e-4a387ba4fce7"
      },
      "execution_count": null,
      "outputs": [
        {
          "output_type": "stream",
          "name": "stdout",
          "text": [
            "['i', 'me', 'my', 'myself', 'we', 'our', 'ours', 'ourselves', 'you', \"you're\", \"you've\", \"you'll\", \"you'd\", 'your', 'yours', 'yourself', 'yourselves', 'he', 'him', 'his', 'himself', 'she', \"she's\", 'her', 'hers', 'herself', 'it', \"it's\", 'its', 'itself', 'they', 'them', 'their', 'theirs', 'themselves', 'what', 'which', 'who', 'whom', 'this', 'that', \"that'll\", 'these', 'those', 'am', 'is', 'are', 'was', 'were', 'be', 'been', 'being', 'have', 'has', 'had', 'having', 'do', 'does', 'did', 'doing', 'a', 'an', 'the', 'and', 'but', 'if', 'or', 'because', 'as', 'until', 'while', 'of', 'at', 'by', 'for', 'with', 'about', 'against', 'between', 'into', 'through', 'during', 'before', 'after', 'above', 'below', 'to', 'from', 'up', 'down', 'in', 'out', 'on', 'off', 'over', 'under', 'again', 'further', 'then', 'once', 'here', 'there', 'when', 'where', 'why', 'how', 'all', 'any', 'both', 'each', 'few', 'more', 'most', 'other', 'some', 'such', 'no', 'nor', 'not', 'only', 'own', 'same', 'so', 'than', 'too', 'very', 's', 't', 'can', 'will', 'just', 'don', \"don't\", 'should', \"should've\", 'now', 'd', 'll', 'm', 'o', 're', 've', 'y', 'ain', 'aren', \"aren't\", 'couldn', \"couldn't\", 'didn', \"didn't\", 'doesn', \"doesn't\", 'hadn', \"hadn't\", 'hasn', \"hasn't\", 'haven', \"haven't\", 'isn', \"isn't\", 'ma', 'mightn', \"mightn't\", 'mustn', \"mustn't\", 'needn', \"needn't\", 'shan', \"shan't\", 'shouldn', \"shouldn't\", 'wasn', \"wasn't\", 'weren', \"weren't\", 'won', \"won't\", 'wouldn', \"wouldn't\"]\n"
          ]
        },
        {
          "output_type": "stream",
          "name": "stderr",
          "text": [
            "[nltk_data] Downloading package stopwords to /root/nltk_data...\n",
            "[nltk_data]   Unzipping corpora/stopwords.zip.\n"
          ]
        }
      ]
    },
    {
      "cell_type": "code",
      "source": [
        "human_sentences = df_complete_dataset['wiki_intro'][:10]\n",
        "for word in human_sentences:\n",
        "  list_words=word.split(\" \")\n",
        "  for i in list_words:\n",
        "    if i in df_difficult_words['abase']:\n",
        "      df_complete_dataset.replace(i,\" \", inplace=True)\n",
        "df_complete_dataset['wiki_intro']\n",
        "\n",
        "df_complete_dataset.to_csv(index=False)\n"
      ],
      "metadata": {
        "id": "cHyWPjCEBvi2"
      },
      "execution_count": null,
      "outputs": []
    },
    {
      "cell_type": "code",
      "source": [
        "df_complete_dataset['human_hard_word_count'].sum()"
      ],
      "metadata": {
        "colab": {
          "base_uri": "https://localhost:8080/"
        },
        "id": "JI6ZyRHoCdKG",
        "outputId": "e92d3095-827f-4c45-e9c1-1d6fde10f14f"
      },
      "execution_count": null,
      "outputs": [
        {
          "output_type": "execute_result",
          "data": {
            "text/plain": [
              "0"
            ]
          },
          "metadata": {},
          "execution_count": 55
        }
      ]
    },
    {
      "cell_type": "code",
      "source": [
        "path1='/content/drive/MyDrive/aldadata/summaries/ai_text_summaries_0_24000.csv'\n",
        "path2='/content/drive/MyDrive/aldadata/summaries/ai_text_summaries_24000_55000.csv'\n",
        "path3='/content/drive/MyDrive/aldadata/summaries/ai_text_summaries_55000_80000.csv'\n",
        "path4='/content/drive/MyDrive/aldadata/summaries/ai_text_summaries_80000_100000.csv'\n",
        "path5='/content/drive/MyDrive/aldadata/summaries/ai_text_summaries_100000_125000.csv'\n",
        "path6='/content/drive/MyDrive/aldadata/summaries/ai_text_summaries_125000_150000.csv'\n",
        "\n",
        "path7='/content/drive/MyDrive/aldadata/summaries/human_text_summaries_0_20000.csv'\n",
        "path8='/content/drive/MyDrive/aldadata/summaries/human_text_summaries_20000_40000.csv'\n",
        "path9='/content/drive/MyDrive/aldadata/summaries/human_text_summaries_40000_60000.csv'\n",
        "path10='/content/drive/MyDrive/aldadata/summaries/human_text_summaries_60000_80000.csv'\n",
        "path11='/content/drive/MyDrive/aldadata/summaries/human_text_summaries_80000_100000.csv'\n",
        "path12='/content/drive/MyDrive/aldadata/summaries/human_text_summaries_100000_120000.csv'\n",
        "path13='/content/drive/MyDrive/aldadata/summaries/human_text_summaries_120000_135000.csv'\n",
        "path14='/content/drive/MyDrive/aldadata/summaries/human_text_summaries_135000_150000.csv'\n",
        "\n",
        "\n",
        "\n",
        "df = pd.concat(map(pd.read_csv, [path1, path2,path3,path4,path5,path6]))\n",
        "df2=pd.concat(map(pd.read_csv, [path7, path8,path9,path10,path11,path12,path13,path14]))\n",
        "df2.head(10)\n",
        "#df.shape"
      ],
      "metadata": {
        "colab": {
          "base_uri": "https://localhost:8080/",
          "height": 363
        },
        "id": "FUWQvRT1Ug8m",
        "outputId": "59490ffb-574d-4ef3-fbb3-c89e4b2934dc"
      },
      "execution_count": null,
      "outputs": [
        {
          "output_type": "execute_result",
          "data": {
            "text/plain": [
              "   Summary No.                                        H_Summaries\n",
              "0            1  Sexhow railway station was built to serve the ...\n",
              "1            2  In Finnish folklore, all places and things, an...\n",
              "2            3  The inverse function theorem gives a sufficien...\n",
              "3            4  The series began serialization in Margaret mag...\n",
              "4            5  Robert Milner \"Rob\" Bradley, Jr. is a Republic...\n",
              "5            6  Moluccans are the Austronesian-speaking and Pa...\n",
              "6            7  HarperOne is a publishing imprint of HarperCol...\n",
              "7            8  A full employment theorem is a theorem which s...\n",
              "8            9  \"Pussy Fairy (OTW)\" is a song recorded by Amer...\n",
              "9           10  Qasr Ibrahim (Ibrahim Palace) is a historical ..."
            ],
            "text/html": [
              "\n",
              "  <div id=\"df-a0152c75-c371-418f-86f6-4702d319879f\">\n",
              "    <div class=\"colab-df-container\">\n",
              "      <div>\n",
              "<style scoped>\n",
              "    .dataframe tbody tr th:only-of-type {\n",
              "        vertical-align: middle;\n",
              "    }\n",
              "\n",
              "    .dataframe tbody tr th {\n",
              "        vertical-align: top;\n",
              "    }\n",
              "\n",
              "    .dataframe thead th {\n",
              "        text-align: right;\n",
              "    }\n",
              "</style>\n",
              "<table border=\"1\" class=\"dataframe\">\n",
              "  <thead>\n",
              "    <tr style=\"text-align: right;\">\n",
              "      <th></th>\n",
              "      <th>Summary No.</th>\n",
              "      <th>H_Summaries</th>\n",
              "    </tr>\n",
              "  </thead>\n",
              "  <tbody>\n",
              "    <tr>\n",
              "      <th>0</th>\n",
              "      <td>1</td>\n",
              "      <td>Sexhow railway station was built to serve the ...</td>\n",
              "    </tr>\n",
              "    <tr>\n",
              "      <th>1</th>\n",
              "      <td>2</td>\n",
              "      <td>In Finnish folklore, all places and things, an...</td>\n",
              "    </tr>\n",
              "    <tr>\n",
              "      <th>2</th>\n",
              "      <td>3</td>\n",
              "      <td>The inverse function theorem gives a sufficien...</td>\n",
              "    </tr>\n",
              "    <tr>\n",
              "      <th>3</th>\n",
              "      <td>4</td>\n",
              "      <td>The series began serialization in Margaret mag...</td>\n",
              "    </tr>\n",
              "    <tr>\n",
              "      <th>4</th>\n",
              "      <td>5</td>\n",
              "      <td>Robert Milner \"Rob\" Bradley, Jr. is a Republic...</td>\n",
              "    </tr>\n",
              "    <tr>\n",
              "      <th>5</th>\n",
              "      <td>6</td>\n",
              "      <td>Moluccans are the Austronesian-speaking and Pa...</td>\n",
              "    </tr>\n",
              "    <tr>\n",
              "      <th>6</th>\n",
              "      <td>7</td>\n",
              "      <td>HarperOne is a publishing imprint of HarperCol...</td>\n",
              "    </tr>\n",
              "    <tr>\n",
              "      <th>7</th>\n",
              "      <td>8</td>\n",
              "      <td>A full employment theorem is a theorem which s...</td>\n",
              "    </tr>\n",
              "    <tr>\n",
              "      <th>8</th>\n",
              "      <td>9</td>\n",
              "      <td>\"Pussy Fairy (OTW)\" is a song recorded by Amer...</td>\n",
              "    </tr>\n",
              "    <tr>\n",
              "      <th>9</th>\n",
              "      <td>10</td>\n",
              "      <td>Qasr Ibrahim (Ibrahim Palace) is a historical ...</td>\n",
              "    </tr>\n",
              "  </tbody>\n",
              "</table>\n",
              "</div>\n",
              "      <button class=\"colab-df-convert\" onclick=\"convertToInteractive('df-a0152c75-c371-418f-86f6-4702d319879f')\"\n",
              "              title=\"Convert this dataframe to an interactive table.\"\n",
              "              style=\"display:none;\">\n",
              "        \n",
              "  <svg xmlns=\"http://www.w3.org/2000/svg\" height=\"24px\"viewBox=\"0 0 24 24\"\n",
              "       width=\"24px\">\n",
              "    <path d=\"M0 0h24v24H0V0z\" fill=\"none\"/>\n",
              "    <path d=\"M18.56 5.44l.94 2.06.94-2.06 2.06-.94-2.06-.94-.94-2.06-.94 2.06-2.06.94zm-11 1L8.5 8.5l.94-2.06 2.06-.94-2.06-.94L8.5 2.5l-.94 2.06-2.06.94zm10 10l.94 2.06.94-2.06 2.06-.94-2.06-.94-.94-2.06-.94 2.06-2.06.94z\"/><path d=\"M17.41 7.96l-1.37-1.37c-.4-.4-.92-.59-1.43-.59-.52 0-1.04.2-1.43.59L10.3 9.45l-7.72 7.72c-.78.78-.78 2.05 0 2.83L4 21.41c.39.39.9.59 1.41.59.51 0 1.02-.2 1.41-.59l7.78-7.78 2.81-2.81c.8-.78.8-2.07 0-2.86zM5.41 20L4 18.59l7.72-7.72 1.47 1.35L5.41 20z\"/>\n",
              "  </svg>\n",
              "      </button>\n",
              "      \n",
              "  <style>\n",
              "    .colab-df-container {\n",
              "      display:flex;\n",
              "      flex-wrap:wrap;\n",
              "      gap: 12px;\n",
              "    }\n",
              "\n",
              "    .colab-df-convert {\n",
              "      background-color: #E8F0FE;\n",
              "      border: none;\n",
              "      border-radius: 50%;\n",
              "      cursor: pointer;\n",
              "      display: none;\n",
              "      fill: #1967D2;\n",
              "      height: 32px;\n",
              "      padding: 0 0 0 0;\n",
              "      width: 32px;\n",
              "    }\n",
              "\n",
              "    .colab-df-convert:hover {\n",
              "      background-color: #E2EBFA;\n",
              "      box-shadow: 0px 1px 2px rgba(60, 64, 67, 0.3), 0px 1px 3px 1px rgba(60, 64, 67, 0.15);\n",
              "      fill: #174EA6;\n",
              "    }\n",
              "\n",
              "    [theme=dark] .colab-df-convert {\n",
              "      background-color: #3B4455;\n",
              "      fill: #D2E3FC;\n",
              "    }\n",
              "\n",
              "    [theme=dark] .colab-df-convert:hover {\n",
              "      background-color: #434B5C;\n",
              "      box-shadow: 0px 1px 3px 1px rgba(0, 0, 0, 0.15);\n",
              "      filter: drop-shadow(0px 1px 2px rgba(0, 0, 0, 0.3));\n",
              "      fill: #FFFFFF;\n",
              "    }\n",
              "  </style>\n",
              "\n",
              "      <script>\n",
              "        const buttonEl =\n",
              "          document.querySelector('#df-a0152c75-c371-418f-86f6-4702d319879f button.colab-df-convert');\n",
              "        buttonEl.style.display =\n",
              "          google.colab.kernel.accessAllowed ? 'block' : 'none';\n",
              "\n",
              "        async function convertToInteractive(key) {\n",
              "          const element = document.querySelector('#df-a0152c75-c371-418f-86f6-4702d319879f');\n",
              "          const dataTable =\n",
              "            await google.colab.kernel.invokeFunction('convertToInteractive',\n",
              "                                                     [key], {});\n",
              "          if (!dataTable) return;\n",
              "\n",
              "          const docLinkHtml = 'Like what you see? Visit the ' +\n",
              "            '<a target=\"_blank\" href=https://colab.research.google.com/notebooks/data_table.ipynb>data table notebook</a>'\n",
              "            + ' to learn more about interactive tables.';\n",
              "          element.innerHTML = '';\n",
              "          dataTable['output_type'] = 'display_data';\n",
              "          await google.colab.output.renderOutput(dataTable, element);\n",
              "          const docLink = document.createElement('div');\n",
              "          docLink.innerHTML = docLinkHtml;\n",
              "          element.appendChild(docLink);\n",
              "        }\n",
              "      </script>\n",
              "    </div>\n",
              "  </div>\n",
              "  "
            ]
          },
          "metadata": {},
          "execution_count": 23
        }
      ]
    },
    {
      "cell_type": "code",
      "source": [
        "df_cd = pd.merge(df, df2, how='inner')\n",
        "df_cd.shape\n",
        "\n",
        "df_dataset=copy.deepcopy(df_cd)\n",
        "df_dataset\n",
        "\n",
        "\n",
        "for i in df_dataset['H_Summaries']:\n",
        "  words=i.split(' ')\n",
        "  for j in words:\n",
        "    if j in df3['abase']:\n",
        "      print('yes')\n"
      ],
      "metadata": {
        "id": "AL8SIA3QXwSh"
      },
      "execution_count": null,
      "outputs": []
    },
    {
      "cell_type": "code",
      "source": [
        "import spacy"
      ],
      "metadata": {
        "id": "UdhapCjmhnCL"
      },
      "execution_count": null,
      "outputs": []
    },
    {
      "cell_type": "code",
      "source": [
        "list_ai= df_cd['AI_Summaries']\n",
        "list_hsumm=df_cd['H_Summaries']\n",
        "list_hsumm"
      ],
      "metadata": {
        "colab": {
          "base_uri": "https://localhost:8080/"
        },
        "id": "ZLERk0F-i3dY",
        "outputId": "4256f322-0165-4c23-a2ba-8b5c1affadb8"
      },
      "execution_count": null,
      "outputs": [
        {
          "output_type": "execute_result",
          "data": {
            "text/plain": [
              "0         Sexhow railway station was built to serve the ...\n",
              "1         In Finnish folklore, all places and things, an...\n",
              "2         The inverse function theorem gives a sufficien...\n",
              "3         The series began serialization in Margaret mag...\n",
              "4         Robert Milner \"Rob\" Bradley, Jr. is a Republic...\n",
              "                                ...                        \n",
              "149995    Randy Borum is a Professor and Coordinator of ...\n",
              "149996    Sa'och is an endangered, nearly extinct Pearic...\n",
              "149997    Philip C. Hanawalt is an American biologist wh...\n",
              "149998    Vossius Gymnasium is a public gymnasium in Ams...\n",
              "149999    Simone Stratigo was an Italian Greek mathemati...\n",
              "Name: H_Summaries, Length: 150000, dtype: object"
            ]
          },
          "metadata": {},
          "execution_count": 8
        }
      ]
    },
    {
      "cell_type": "code",
      "source": [
        "\n",
        "import tensorflow_hub as hub\n",
        "\n",
        "embed = hub.load(\"https://tfhub.dev/google/universal-sentence-encoder/4\")"
      ],
      "metadata": {
        "id": "fN99Jy-WkhmG"
      },
      "execution_count": null,
      "outputs": []
    },
    {
      "cell_type": "code",
      "source": [
        "# embeddings_hsumm1 = embed(list_hsumm[:40000])\n",
        "embeddings_hsumm1 = embed(list_hsumm[110000:150001])\n",
        "print(embeddings_hsumm1)\n",
        "embeddings_hsumm1.shape"
      ],
      "metadata": {
        "colab": {
          "base_uri": "https://localhost:8080/"
        },
        "id": "bbiZJFM0lzJz",
        "outputId": "9fc3bdbd-e800-42f1-9a17-e3d98b98e415"
      },
      "execution_count": null,
      "outputs": [
        {
          "output_type": "stream",
          "name": "stdout",
          "text": [
            "tf.Tensor(\n",
            "[[ 0.01984784 -0.04909109 -0.03318809 ... -0.01530186 -0.01012475\n",
            "   0.05272123]\n",
            " [ 0.02128438  0.0712356   0.07640021 ...  0.04007152  0.06553328\n",
            "  -0.00981622]\n",
            " [-0.03048722  0.01586401  0.05794827 ... -0.06080077 -0.02917061\n",
            "  -0.06318729]\n",
            " ...\n",
            " [-0.02716357  0.06389368 -0.01079725 ...  0.01770742 -0.0353317\n",
            "  -0.01649206]\n",
            " [-0.05683472  0.0467064  -0.00946664 ...  0.02233877 -0.06796696\n",
            "  -0.077488  ]\n",
            " [-0.0237885  -0.01928458 -0.00502092 ... -0.02171561  0.0134673\n",
            "  -0.07681747]], shape=(40000, 512), dtype=float32)\n"
          ]
        },
        {
          "output_type": "execute_result",
          "data": {
            "text/plain": [
              "TensorShape([40000, 512])"
            ]
          },
          "metadata": {},
          "execution_count": 10
        }
      ]
    },
    {
      "cell_type": "code",
      "source": [
        "# embeddings_hsumm2=embed(list_hsumm[40000:80000])\n",
        "# print(embeddings_hsumm2)\n",
        "# embeddings_hsumm2.shape"
      ],
      "metadata": {
        "id": "InXSN0vZp3wY"
      },
      "execution_count": null,
      "outputs": []
    },
    {
      "cell_type": "code",
      "source": [
        "# embeddings_ai1 = embed(list_ai[:40000])\n",
        "embeddings_ai1 = embed(list_ai[110000:150000])\n",
        "print(embeddings_ai1)\n",
        "embeddings_ai1.shape"
      ],
      "metadata": {
        "colab": {
          "base_uri": "https://localhost:8080/"
        },
        "id": "wz8BB5ZHt8nk",
        "outputId": "88d1931b-665d-4867-e347-c99d7e3fdcdc"
      },
      "execution_count": null,
      "outputs": [
        {
          "output_type": "stream",
          "name": "stdout",
          "text": [
            "tf.Tensor(\n",
            "[[ 0.00786317  0.04805319 -0.02441321 ... -0.04943983 -0.06227077\n",
            "   0.03188179]\n",
            " [ 0.04677891  0.01822777  0.07704028 ...  0.04760573  0.07726154\n",
            "  -0.00996508]\n",
            " [-0.02235756 -0.03710325  0.05100926 ... -0.03742388 -0.04581688\n",
            "  -0.03885078]\n",
            " ...\n",
            " [ 0.0001982   0.04889482  0.0734999  ... -0.06059496  0.01240921\n",
            "   0.02514476]\n",
            " [-0.01534636  0.07355625 -0.06791458 ... -0.03986057 -0.0369526\n",
            "  -0.02258362]\n",
            " [-0.03293296 -0.04012745 -0.05378958 ... -0.05972523 -0.06963068\n",
            "  -0.07219719]], shape=(40000, 512), dtype=float32)\n"
          ]
        },
        {
          "output_type": "execute_result",
          "data": {
            "text/plain": [
              "TensorShape([40000, 512])"
            ]
          },
          "metadata": {},
          "execution_count": 12
        }
      ]
    },
    {
      "cell_type": "code",
      "source": [
        "# embeddings_ai2 = embed(list_ai[40000:80000])\n",
        "# print(embeddings_ai2)\n",
        "# embeddings_ai2.shape"
      ],
      "metadata": {
        "id": "O8UJbaHpt83J"
      },
      "execution_count": null,
      "outputs": []
    },
    {
      "cell_type": "code",
      "source": [
        "import tensorflow as tf\n",
        "\n"
      ],
      "metadata": {
        "id": "r0tLnCGrnEOt"
      },
      "execution_count": null,
      "outputs": []
    },
    {
      "cell_type": "code",
      "source": [
        "def convert_tensor_to_list(embeddings):\n",
        "  proto_tensor = tf.make_tensor_proto(embeddings)  # convert `tensor a` to a proto tensor\n",
        "  embed_list=tf.make_ndarray(proto_tensor)\n",
        "  return embed_list"
      ],
      "metadata": {
        "id": "ODEvPLCtogXN"
      },
      "execution_count": null,
      "outputs": []
    },
    {
      "cell_type": "code",
      "source": [
        "embeddings_hsumm1=convert_tensor_to_list(embeddings_hsumm1)\n",
        "print(embeddings_hsumm1)\n",
        "embeddings_hsumm1.shape"
      ],
      "metadata": {
        "colab": {
          "base_uri": "https://localhost:8080/"
        },
        "id": "vKM_TWGZopr1",
        "outputId": "b66f7af1-0cb6-414c-ddfe-b54097045523"
      },
      "execution_count": null,
      "outputs": [
        {
          "output_type": "stream",
          "name": "stdout",
          "text": [
            "[[ 0.01984784 -0.04909109 -0.03318809 ... -0.01530186 -0.01012475\n",
            "   0.05272123]\n",
            " [ 0.02128438  0.0712356   0.07640021 ...  0.04007152  0.06553328\n",
            "  -0.00981622]\n",
            " [-0.03048722  0.01586401  0.05794827 ... -0.06080077 -0.02917061\n",
            "  -0.06318729]\n",
            " ...\n",
            " [-0.02716357  0.06389368 -0.01079725 ...  0.01770742 -0.0353317\n",
            "  -0.01649206]\n",
            " [-0.05683472  0.0467064  -0.00946664 ...  0.02233877 -0.06796696\n",
            "  -0.077488  ]\n",
            " [-0.0237885  -0.01928458 -0.00502092 ... -0.02171561  0.0134673\n",
            "  -0.07681747]]\n"
          ]
        },
        {
          "output_type": "execute_result",
          "data": {
            "text/plain": [
              "(40000, 512)"
            ]
          },
          "metadata": {},
          "execution_count": 16
        }
      ]
    },
    {
      "cell_type": "code",
      "source": [
        "# embeddings_hsumm2=convert_tensor_to_list(embeddings_hsumm2)\n",
        "# print(embeddings_hsumm2)\n",
        "\n",
        "embeddings_ai1=convert_tensor_to_list(embeddings_ai1)\n",
        "print(embeddings_ai1)\n",
        "# embeddings_ai2=convert_tensor_to_list(embeddings_ai2)\n",
        "# print(embeddings_ai2)\n",
        "\n",
        "# print(embeddings_hsumm2.shape)\n",
        "print(embeddings_ai1.shape)\n",
        "# print(embeddings_ai2.shape)"
      ],
      "metadata": {
        "colab": {
          "base_uri": "https://localhost:8080/"
        },
        "id": "vCJ4-lclv-gj",
        "outputId": "43d21b3b-420a-480c-ed54-47d39039d0bd"
      },
      "execution_count": null,
      "outputs": [
        {
          "output_type": "stream",
          "name": "stdout",
          "text": [
            "[[ 0.00786317  0.04805319 -0.02441321 ... -0.04943983 -0.06227077\n",
            "   0.03188179]\n",
            " [ 0.04677891  0.01822777  0.07704028 ...  0.04760573  0.07726154\n",
            "  -0.00996508]\n",
            " [-0.02235756 -0.03710325  0.05100926 ... -0.03742388 -0.04581688\n",
            "  -0.03885078]\n",
            " ...\n",
            " [ 0.0001982   0.04889482  0.0734999  ... -0.06059496  0.01240921\n",
            "   0.02514476]\n",
            " [-0.01534636  0.07355625 -0.06791458 ... -0.03986057 -0.0369526\n",
            "  -0.02258362]\n",
            " [-0.03293296 -0.04012745 -0.05378958 ... -0.05972523 -0.06963068\n",
            "  -0.07219719]]\n",
            "(40000, 512)\n"
          ]
        }
      ]
    },
    {
      "cell_type": "code",
      "source": [
        "import numpy as np\n",
        "\n",
        "def cos_sim(a,b):\n",
        "\n",
        "  # define the two vectors\n",
        "  A = np.array(a)\n",
        "  B = np.array(b)\n",
        "\n",
        "  # calculate the dot product of A and B\n",
        "  dot_product = np.dot(A, B)\n",
        "\n",
        "  # calculate the magnitudes of A and B\n",
        "  magnitude_A = np.sqrt(np.dot(A, A))\n",
        "  magnitude_B = np.sqrt(np.dot(B, B))\n",
        "\n",
        "  # calculate the cosine similarity\n",
        "  cosine_similarity = dot_product / (magnitude_A * magnitude_B)\n",
        "\n",
        "  #print(\"The cosine similarity of A and B is:\", cosine_similarity)\n",
        "  return cosine_similarity"
      ],
      "metadata": {
        "id": "zje-OQojz6WN"
      },
      "execution_count": null,
      "outputs": []
    },
    {
      "cell_type": "code",
      "source": [
        "count=0\n",
        "for i in range(0,40000):\n",
        "\n",
        "  sim_val=cos_sim(embeddings_hsumm1[i],embeddings_ai1[i])\n",
        "\n",
        "  if sim_val>=0.8:\n",
        "    count+=1\n",
        "    # print(str(df['AI_Summaries'][i+11000]))\n",
        "    # print(str(df2['H_Summaries'][i+110000]))\n",
        "\n",
        "# for i in range(0,40000):\n",
        "\n",
        "#   sim_val=cos_sim(embeddings_hsumm2[i],embeddings_ai2[i])\n",
        "\n",
        "#   if sim_val>=0.8:\n",
        "#     count+=1\n",
        "  \n",
        "print(count)\n"
      ],
      "metadata": {
        "colab": {
          "base_uri": "https://localhost:8080/"
        },
        "id": "WTKNEBSk0ciy",
        "outputId": "56794862-349c-4b06-8401-09f229b96549"
      },
      "execution_count": null,
      "outputs": [
        {
          "output_type": "stream",
          "name": "stdout",
          "text": [
            "860\n"
          ]
        }
      ]
    }
  ]
}